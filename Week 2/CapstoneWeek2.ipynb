{
 "cells": [
  {
   "cell_type": "markdown",
   "metadata": {},
   "source": [
    "## Severity in the Community | Business Problem | Introduction"
   ]
  },
  {
   "cell_type": "markdown",
   "metadata": {},
   "source": [
    "### Introduction:"
   ]
  },
  {
   "cell_type": "markdown",
   "metadata": {},
   "source": [
    "The purpose of this project is to predict the severity of an accident given various conditions based on a metadata set. This is for people looking to improve awareness of car accidents in their area based on data to their region. The data in this set will be used to train the program to better predict car accidents given weather conditions, road conditions, and other factors associated with accidents.\n",
    "\n",
    "This Project aims to create a comparative analysis between accidents. The features include accident severity analyzing particular wreck descriptions, such as: area, road connectivity, weather conditions, \n",
    "and type of collision. \n",
    "\n",
    "The project aims to help people gain awareness of a destination area before traveling or to gain awareness of their current areas. It also aims to help existing transportation commissions improve awareness of their operating areas and help implementation of future accident precautions."
   ]
  },
  {
   "cell_type": "markdown",
   "metadata": {},
   "source": [
    "### Business Problem to Solve:"
   ]
  },
  {
   "cell_type": "markdown",
   "metadata": {},
   "source": [
    "The major purpose of this project is to analyze existing car accident reports to perform the following:\n",
    "1. Analyze current weather and road conditions and place it against the existing data for the area.\n",
    "2. Worn the user of a car accident severity based on the conditions and display areas to potentially avoid. "
   ]
  },
  {
   "cell_type": "markdown",
   "metadata": {},
   "source": [
    "## Data:"
   ]
  },
  {
   "cell_type": "markdown",
   "metadata": {},
   "source": [
    "### Data Description:"
   ]
  },
  {
   "cell_type": "markdown",
   "metadata": {},
   "source": [
    "This project will utilize Jupyter Notebooks to analyze a metadata set containing a rating of accident severity, street location, collision address type, weather condition, road condition, vehicle count, injuries, fatalities, and whether the driver at fault was under the influence. "
   ]
  },
  {
   "cell_type": "markdown",
   "metadata": {},
   "source": [
    "### Foursquare API:"
   ]
  },
  {
   "cell_type": "markdown",
   "metadata": {},
   "source": [
    "This project will incorporate Foursquare's API, an in-depth database of locations, to analyze locations and pinpoint hot spots during certain times and/or weather conditions and cluster them.  "
   ]
  },
  {
   "cell_type": "markdown",
   "metadata": {},
   "source": [
    "### Data Approach:"
   ]
  },
  {
   "cell_type": "markdown",
   "metadata": {},
   "source": [
    "To help analyze the data, a clustering approach will be used to group together elements of the data to help better predict what conditions can influence a stronger possibility of being in a car accident or to help show certain areas to avoid. To be able to do that, clustering the data into an unsupervised, machine learning: k-means clustering algorithm."
   ]
  },
  {
   "cell_type": "markdown",
   "metadata": {},
   "source": [
    "### Libraries to be Used:"
   ]
  },
  {
   "cell_type": "markdown",
   "metadata": {},
   "source": [
    "_Pandas_: For creating and manipulating dataframes\n",
    "\n",
    "_Folium_: Python visualization library \n",
    "\n",
    "_Scikit Learn_: For importing k-means clustering\n",
    "\n",
    "_JSON_: Library to handle JSON files\n",
    "\n",
    "_Matplotlib_: Python Plotting Module"
   ]
  },
  {
   "cell_type": "code",
   "execution_count": null,
   "metadata": {},
   "outputs": [],
   "source": []
  }
 ],
 "metadata": {
  "kernelspec": {
   "display_name": "Python",
   "language": "python",
   "name": "conda-env-python-py"
  },
  "language_info": {
   "codemirror_mode": {
    "name": "ipython",
    "version": 3
   },
   "file_extension": ".py",
   "mimetype": "text/x-python",
   "name": "python",
   "nbconvert_exporter": "python",
   "pygments_lexer": "ipython3",
   "version": "3.6.11"
  }
 },
 "nbformat": 4,
 "nbformat_minor": 4
}
